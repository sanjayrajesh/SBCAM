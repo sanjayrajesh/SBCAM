{
 "cells": [
  {
   "cell_type": "code",
   "execution_count": 18,
   "metadata": {},
   "outputs": [],
   "source": [
    "import subprocess\n",
    "\n",
    "def generate_ast(source_code_file, output_file):\n",
    "    subprocess.run(['srcml', source_code_file, '-o', output_file])\n",
    "\n",
    "source_code_file = 'test1.cpp'\n",
    "output_file = 'ast1.xml'\n",
    "\n",
    "# Generate AST\n",
    "generate_ast(source_code_file, output_file)"
   ]
  },
  {
   "cell_type": "code",
   "execution_count": 2,
   "metadata": {},
   "outputs": [],
   "source": [
    "import xml.etree.ElementTree as ET\n",
    "\n",
    "# Define the namespace globally\n",
    "NAMESPACE = {'src': 'http://www.srcML.org/srcML/src'}\n",
    "\n",
    "def parse_xml(xml_file):\n",
    "    \"\"\"Parse the XML file and return the root element.\"\"\"\n",
    "    tree = ET.parse(xml_file)\n",
    "    return tree.getroot()\n",
    "\n",
    "def count_function_declarations(root):\n",
    "    \"\"\"Count the number of function declarations in the XML.\"\"\"\n",
    "    count = 0\n",
    "    for function_name in root.findall('.//src:function/src:name', namespaces=NAMESPACE):\n",
    "        if function_name.text != \"main\":\n",
    "            count += 1\n",
    "    return count\n",
    "\n",
    "def get_parameter_count_in_functions(root):\n",
    "    \"\"\"Get the total parameter count across all functions.\"\"\"\n",
    "    total_parameter_count = 0\n",
    "    for function in root.findall('.//src:function', namespaces=NAMESPACE):\n",
    "        parameter_list = function.find(\"./src:parameter_list\", namespaces=NAMESPACE)\n",
    "        # Count the number of parameters in the parameter list for each function\n",
    "        parameter_count = sum(1 for _ in parameter_list.findall('./src:parameter', namespaces=NAMESPACE))\n",
    "        # Add the parameter count for the current function to the total count\n",
    "        total_parameter_count += parameter_count\n",
    "    return total_parameter_count\n",
    "\n",
    "\n",
    "def count_simple_pointers(root):\n",
    "    \"\"\"Count the number of simple pointers.\"\"\"\n",
    "    count = 0\n",
    "    parameters = root.findall('.//src:parameter', namespaces=NAMESPACE)\n",
    "    for parameter in parameters:\n",
    "        modifier = parameter.find('.//src:modifier', namespaces=NAMESPACE)\n",
    "        if modifier is not None and modifier.text == '*':\n",
    "            count += 1\n",
    "    return count\n",
    "\n",
    "def count_simple_addresses(root):\n",
    "    \"\"\"Count the number of simple addresses.\"\"\"\n",
    "    count = 0\n",
    "    function_calls = root.findall('.//src:call', namespaces=NAMESPACE)\n",
    "    for call in function_calls:\n",
    "        arguments = call.findall('.//src:argument', namespaces=NAMESPACE)\n",
    "        for argument in arguments:\n",
    "            address_operator = argument.find('.//src:operator', namespaces=NAMESPACE)\n",
    "            if address_operator is not None:\n",
    "                count += 1\n",
    "    return count\n",
    "\n",
    "def count_array_pointers(root):\n",
    "    \"\"\"Count the number of array pointers.\"\"\"\n",
    "    count = 0\n",
    "    parameters = root.findall('.//src:parameter', namespaces=NAMESPACE)\n",
    "    for parameter in parameters:\n",
    "        parameter_name = parameter.find('.//src:decl/src:name', namespaces=NAMESPACE)\n",
    "        if parameter_name is not None and parameter_name.find('src:index', namespaces=NAMESPACE) is not None:\n",
    "            count += 1\n",
    "    return count\n"
   ]
  },
  {
   "cell_type": "code",
   "execution_count": 3,
   "metadata": {},
   "outputs": [
    {
     "name": "stdout",
     "output_type": "stream",
     "text": [
      "{'NF': 3, 'NP': 3, 'NPt-s': 0, 'NAdd-s': 1, 'NPt-ds': 0}\n",
      "Quality metrics saved to quality_metrics.json\n"
     ]
    }
   ],
   "source": [
    "import json\n",
    "\n",
    "def get_quality_metrics(xml_file):\n",
    "    # Parse the XML file\n",
    "    root = parse_xml(xml_file)\n",
    "\n",
    "    # Call each function to get the feature values\n",
    "    # nf = count_function_declarations(root)\n",
    "    # np = get_parameter_count_in_functions(root)\n",
    "    # npt_s = count_simple_pointers(root)\n",
    "    # nadd_s = count_simple_addresses(root)\n",
    "    # npt_ds = count_array_pointers(root)\n",
    "\n",
    "    # Construct the JSON object\n",
    "    quality_metrics = {\n",
    "        'NF': count_function_declarations(root),\n",
    "        'NP': get_parameter_count_in_functions(root),\n",
    "        'NPt-s': count_simple_pointers(root),\n",
    "        'NAdd-s': count_simple_addresses(root),\n",
    "        'NPt-ds': count_array_pointers(root)\n",
    "    }\n",
    "    print(quality_metrics)\n",
    "    # return json.dumps(quality_metrics, indent=4)\n",
    "    quality_metrics_filtered = {k: v for k, v in quality_metrics.items() if v >= 1}\n",
    "\n",
    "    return quality_metrics_filtered"
   ]
  },
  {
   "cell_type": "code",
   "execution_count": null,
   "metadata": {},
   "outputs": [],
   "source": [
    "# Example usage\n",
    "xml_file = \"ast.xml\"  # Provide the path to your srcML XML file\n",
    "json_metrics = get_quality_metrics(xml_file)\n",
    "output_file = \"quality_metrics.json\"\n",
    "with open(output_file, \"w\") as json_file:\n",
    "    json.dump(json_metrics, json_file, indent=4)\n",
    "\n",
    "print(f\"Quality metrics saved to {output_file}\")"
   ]
  },
  {
   "cell_type": "code",
   "execution_count": 5,
   "metadata": {},
   "outputs": [],
   "source": [
    "FUNCTION_MAP = {\n",
    "    'NF': count_function_declarations,\n",
    "    'NP': get_parameter_count_in_functions,\n",
    "    'NPt-s': count_simple_pointers,\n",
    "    'NAdd-s': count_simple_addresses,\n",
    "    'NPt-ds': count_array_pointers\n",
    "}"
   ]
  },
  {
   "cell_type": "code",
   "execution_count": 10,
   "metadata": {},
   "outputs": [],
   "source": [
    "def extract_features(root,json_file):\n",
    "    with open(json_file, 'r') as f:\n",
    "        data = json.load(f)\n",
    "    \n",
    "    features = {}\n",
    "    for key, func in FUNCTION_MAP.items():\n",
    "        if key in data:\n",
    "            features[key] = func(root)\n",
    "    \n",
    "    return features"
   ]
  },
  {
   "cell_type": "code",
   "execution_count": 19,
   "metadata": {},
   "outputs": [
    {
     "name": "stdout",
     "output_type": "stream",
     "text": [
      "Extracted features:\n",
      "{'NF': 3, 'NP': 3, 'NAdd-s': 0}\n"
     ]
    }
   ],
   "source": [
    "json_file = \"quality_metrics.json\"  # Path to the generated JSON file\n",
    "xml_file = \"ast1.xml\"\n",
    "root =  parse_xml(xml_file)\n",
    "extracted_features = extract_features(root, json_file)\n",
    "\n",
    "print(\"Extracted features:\")\n",
    "print(extracted_features)"
   ]
  },
  {
   "cell_type": "code",
   "execution_count": 7,
   "metadata": {},
   "outputs": [
    {
     "name": "stdout",
     "output_type": "stream",
     "text": [
      "Individual scores: {'NF': '4/5', 'NP': '9/10', 'NPt-s': '3/3', 'NAdd-s': '1/2', 'NPt-ds': '1/1'}\n"
     ]
    }
   ],
   "source": [
    "def calculate_individual_scores(teacher_solution, student_solution):\n",
    "    individual_scores = {}\n",
    "    \n",
    "    for feature, teacher_count in teacher_solution.items():\n",
    "        if feature in student_solution:\n",
    "            student_count = student_solution[feature]\n",
    "            # Calculate the score based on the difference between counts\n",
    "            feature_score = max(0, min(1, 1 - abs(teacher_count - student_count) / teacher_count))\n",
    "            # Store the individual score for the feature\n",
    "            individual_scores[feature] = f\"{student_count}/{teacher_count}\"\n",
    "        else:\n",
    "            individual_scores[feature] = f\"0/{teacher_count}\"\n",
    "    \n",
    "    return individual_scores\n",
    "\n",
    "# Example usage:\n",
    "teacher_solution = {'NF': 5, 'NP': 10, 'NPt-s': 3, 'NAdd-s': 2, 'NPt-ds': 1}\n",
    "student_solution = {'NF': 4, 'NP': 9, 'NPt-s': 3, 'NAdd-s': 1, 'NPt-ds': 1}\n",
    "\n",
    "individual_scores = calculate_individual_scores(teacher_solution, student_solution)\n",
    "print(\"Individual scores:\", individual_scores)\n"
   ]
  },
  {
   "cell_type": "code",
   "execution_count": 9,
   "metadata": {},
   "outputs": [
    {
     "name": "stdout",
     "output_type": "stream",
     "text": [
      "Individual scores: {'NF': {'student_count': 4, 'teacher_count': 5, 'score': '4/5', 'feature_score': 0.8}, 'NP': {'student_count': 9, 'teacher_count': 10, 'score': '9/10', 'feature_score': 0.9}, 'NPt-s': {'student_count': 3, 'teacher_count': 3, 'score': '3/3', 'feature_score': 1}, 'NAdd-s': {'student_count': 1, 'teacher_count': 2, 'score': '1/2', 'feature_score': 0.5}, 'NPt-ds': {'student_count': 1, 'teacher_count': 1, 'score': '1/1', 'feature_score': 1}}\n",
      "Final score percentage: 84.00000000000001\n"
     ]
    }
   ],
   "source": [
    "def calculate_individual_scores(teacher_solution, student_solution):\n",
    "    individual_scores = {}\n",
    "    total_score = 0\n",
    "    \n",
    "    for feature, teacher_count in teacher_solution.items():\n",
    "        if feature in student_solution:\n",
    "            student_count = student_solution[feature]\n",
    "            # Calculate the score based on the difference between counts\n",
    "            feature_score = max(0, min(1, 1 - abs(teacher_count - student_count) / teacher_count))\n",
    "            # Add the feature score to the total score\n",
    "            total_score += feature_score\n",
    "            # Store the individual score for the feature\n",
    "            individual_scores[feature] = {\n",
    "                \"student_count\": student_count,\n",
    "                \"teacher_count\": teacher_count,\n",
    "                \"score\" : f\"{student_count}/{teacher_count}\",\n",
    "                \"feature_score\": feature_score\n",
    "            }\n",
    "        else:\n",
    "            # If the feature is not present in the student's solution\n",
    "            individual_scores[feature] = {\n",
    "                \"student_count\": 0,\n",
    "                \"teacher_count\": teacher_count,\n",
    "                \"feature_score\": 0\n",
    "            }\n",
    "    \n",
    "    # Calculate the final score percentage\n",
    "    num_features = len(teacher_solution)\n",
    "    final_score_percentage = total_score / num_features * 100 if num_features > 0 else 0\n",
    "    \n",
    "    return individual_scores, final_score_percentage\n",
    "\n",
    "# Example usage:\n",
    "teacher_solution = {'NF': 5, 'NP': 10, 'NPt-s': 3, 'NAdd-s': 2, 'NPt-ds': 1}\n",
    "student_solution = {'NF': 4, 'NP': 9, 'NPt-s': 3, 'NAdd-s': 1, 'NPt-ds': 1}\n",
    "\n",
    "individual_scores, final_score_percentage = calculate_individual_scores(teacher_solution, student_solution)\n",
    "print(\"Individual scores:\", individual_scores)\n",
    "print(\"Final score percentage:\", final_score_percentage)\n"
   ]
  },
  {
   "cell_type": "code",
   "execution_count": 11,
   "metadata": {},
   "outputs": [
    {
     "name": "stdout",
     "output_type": "stream",
     "text": [
      "3.116666666666667 5\n",
      "Individual scores: {'NF': {'student_count': 4, 'teacher_count': 5, 'score': '4/5', 'feature_score': 0.8}, 'NP': {'student_count': 12, 'teacher_count': 10, 'score': '12/10', 'feature_score': 0.4}, 'NPt-s': {'student_count': 2, 'teacher_count': 3, 'score': '2/3', 'feature_score': 0.6666666666666667}, 'NAdd-s': {'student_count': 3, 'teacher_count': 2, 'score': '3/2', 'feature_score': 0.25}, 'NPt-ds': {'student_count': 1, 'teacher_count': 1, 'score': '1/1', 'feature_score': 1}}\n",
      "Final score percentage: 62.33333333333334\n"
     ]
    }
   ],
   "source": [
    "def calculate_individual_scores(teacher_solution, student_solution):\n",
    "    individual_scores = {}\n",
    "    total_score = 0\n",
    "    \n",
    "    for feature, teacher_count in teacher_solution.items():\n",
    "        if feature in student_solution:\n",
    "            student_count = student_solution[feature]\n",
    "            # Calculate the score based on the difference between counts\n",
    "            feature_score = max(0, min(1, 1 - abs(teacher_count - student_count) / teacher_count))\n",
    "            # Penalize if the student's count exceeds the teacher's count\n",
    "            if student_count > teacher_count:\n",
    "                feature_score *= 0.5  # Example penalty factor (adjust as needed)\n",
    "            # Add the feature score to the total score\n",
    "            total_score += feature_score\n",
    "            # Store the individual score for the feature\n",
    "            individual_scores[feature] = {\n",
    "                \"student_count\": student_count,\n",
    "                \"teacher_count\": teacher_count,\n",
    "                \"score\": f\"{student_count}/{teacher_count}\",\n",
    "                \"feature_score\": feature_score\n",
    "            }\n",
    "        else:\n",
    "            # If the feature is not present in the student's solution\n",
    "            individual_scores[feature] = {\n",
    "                \"student_count\": 0,\n",
    "                \"teacher_count\": teacher_count,\n",
    "                \"score\": f\"0/{teacher_count}\",\n",
    "                \"feature_score\": 0\n",
    "            }\n",
    "    \n",
    "    # Calculate the final score percentage\n",
    "    num_features = len(teacher_solution)\n",
    "    final_score_percentage = total_score / num_features * 100 if num_features > 0 else 0\n",
    "    print(total_score,num_features)\n",
    "    return individual_scores, final_score_percentage\n",
    "\n",
    "# Example usage:\n",
    "teacher_solution = {'NF': 5, 'NP': 10, 'NPt-s': 3, 'NAdd-s': 2, 'NPt-ds': 1}\n",
    "student_solution = {'NF': 4, 'NP': 12, 'NPt-s': 2, 'NAdd-s': 3, 'NPt-ds': 1}\n",
    "\n",
    "individual_scores, final_score_percentage = calculate_individual_scores(teacher_solution, student_solution)\n",
    "print(\"Individual scores:\", individual_scores)\n",
    "print(\"Final score percentage:\", final_score_percentage)\n"
   ]
  }
 ],
 "metadata": {
  "kernelspec": {
   "display_name": "Python 3 (ipykernel)",
   "language": "python",
   "name": "python3"
  },
  "language_info": {
   "codemirror_mode": {
    "name": "ipython",
    "version": 3
   },
   "file_extension": ".py",
   "mimetype": "text/x-python",
   "name": "python",
   "nbconvert_exporter": "python",
   "pygments_lexer": "ipython3",
   "version": "3.11.4"
  }
 },
 "nbformat": 4,
 "nbformat_minor": 2
}
