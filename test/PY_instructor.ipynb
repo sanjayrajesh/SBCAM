{
 "cells": [
  {
   "cell_type": "code",
   "execution_count": 1,
   "metadata": {},
   "outputs": [],
   "source": [
    "import json\n",
    "%run py_feature_extraction.ipynb\n",
    "from py_constants import CODE_INPUT, XML_OUTPUT, FUNCTION_MAP\n",
    "## Common Methods\n",
    "%run py_common.py"
   ]
  },
  {
   "cell_type": "markdown",
   "metadata": {},
   "source": [
    "#### Extracting All features from Teachers solution and saving only those features with count > 0"
   ]
  },
  {
   "cell_type": "code",
   "execution_count": 2,
   "metadata": {},
   "outputs": [],
   "source": [
    "def get_quality_metrics(root):\n",
    "    # Construct the JSON object\n",
    "    quality_metrics = {}\n",
    "    for key, function_name in FUNCTION_MAP.items():\n",
    "        function = globals()[function_name]\n",
    "        temp = function(root)\n",
    "        if temp > 0: \n",
    "            quality_metrics[key] = temp\n",
    "    print(\"Quality Metrics: \",quality_metrics)\n",
    "    # return json.dumps(quality_metrics, indent=4)\n",
    "    # quality_metrics_filtered = {k: v for k, v in quality_metrics.items() if v >= 1}\n",
    "\n",
    "    return quality_metrics"
   ]
  },
  {
   "cell_type": "markdown",
   "metadata": {},
   "source": [
    "## Main"
   ]
  },
  {
   "cell_type": "code",
   "execution_count": 3,
   "metadata": {},
   "outputs": [
    {
     "name": "stdout",
     "output_type": "stream",
     "text": [
      "printing struct_declarations:  {}\n",
      "printing struct_inst_name:  {}\n",
      "printing function_bodies: {'isPrime': ['sqrt'], 'factorial': ['factorial'], 'fibonacci': [], 'main': ['isPrime', 'factorial', 'fibonacci']}\n",
      "printing recursive_functions:  ['factorial']\n",
      "printing recursive_functions:  ['factorial']\n",
      "printing recursive_functions:  ['factorial']\n",
      "printing recursive_functions:  ['factorial']\n",
      "Quality Metrics:  {'NF': 3, 'NP': 3, 'NFRec': 1, 'NCRec': 1, 'NIFPar': 1, 'NRRec': 1, 'NRNRec': 1}\n",
      "Quality metrics saved to <_io.TextIOWrapper name='quality_metrics.json' mode='w' encoding='cp1252'>\n"
     ]
    }
   ],
   "source": [
    "if __name__ == \"__main__\":    \n",
    "    xml_file = CODE_INPUT+\"/ast.xml\"\n",
    "    #xml_file = CODE_INPUT+\"/pointers.xml\"\n",
    "    #xml_file = CODE_INPUT+\"/arrPointer.xml\"\n",
    "    #xml_file = CODE_INPUT+\"/structExample.xml\"\n",
    "    #xml_file = CODE_INPUT+\"/recursionExample.xml\"\n",
    "    #xml_file = CODE_INPUT+\"/mallocExample.xml\"\n",
    "    #xml_file = CODE_INPUT+\"/typedefExample.xml\"\n",
    "    #xml_file = CODE_INPUT+\"/sizeofExample.xml\"\n",
    "\n",
    "    root =  parse_xml(xml_file)\n",
    "        \n",
    "    json_metrics = get_quality_metrics(root)\n",
    "    json_file = \"quality_metrics.json\"\n",
    "    with open(json_file, \"w\") as json_file:\n",
    "        json.dump(json_metrics, json_file, indent=4)\n",
    "\n",
    "    print(f\"Quality metrics saved to {json_file}\")"
   ]
  }
 ],
 "metadata": {
  "kernelspec": {
   "display_name": "Python 3",
   "language": "python",
   "name": "python3"
  },
  "language_info": {
   "codemirror_mode": {
    "name": "ipython",
    "version": 3
   },
   "file_extension": ".py",
   "mimetype": "text/x-python",
   "name": "python",
   "nbconvert_exporter": "python",
   "pygments_lexer": "ipython3",
   "version": "3.11.4"
  }
 },
 "nbformat": 4,
 "nbformat_minor": 2
}
