{
 "cells": [
  {
   "cell_type": "code",
   "execution_count": 1,
   "metadata": {
    "scrolled": true
   },
   "outputs": [],
   "source": [
    "import json\n",
    "\n",
    "from py_constants import CODE_INPUT, XML_OUTPUT, FUNCTION_MAP, JSON_FILE\n",
    "%run py_common.py ## Common Methods\n",
    "%run py_feature_extraction.ipynb ##Feature Extraction"
   ]
  },
  {
   "cell_type": "markdown",
   "metadata": {},
   "source": [
    "#### Extracting Student Features. (Only those features are checked which are present in teachers solution)"
   ]
  },
  {
   "cell_type": "code",
   "execution_count": 2,
   "metadata": {},
   "outputs": [],
   "source": [
    "def extract_features(root, json_file):\n",
    "    with open(json_file, 'r') as f:\n",
    "        data = json.load(f)\n",
    "    \n",
    "    features = {}\n",
    "    for key, function_name in FUNCTION_MAP.items():\n",
    "        if key in data:\n",
    "            function = globals()[function_name]\n",
    "            features[key] = function(root)\n",
    "    \n",
    "    return features, data"
   ]
  },
  {
   "cell_type": "code",
   "execution_count": 3,
   "metadata": {},
   "outputs": [],
   "source": [
    "def calculate_individual_scores(teacher_solution, student_solution):\n",
    "    individual_scores = {}\n",
    "    total_score = 0\n",
    "    \n",
    "    for feature, teacher_count in teacher_solution.items():\n",
    "        if feature in student_solution:\n",
    "            student_count = student_solution[feature]\n",
    "            # Calculate the score based on the difference between counts\n",
    "            feature_score = max(0, min(1, 1 - abs(teacher_count - student_count) / teacher_count))\n",
    "            # Penalize if the student's count exceeds the teacher's count\n",
    "            if student_count > teacher_count:\n",
    "                feature_score *= 0.95  # Example penalty factor (adjust as needed)\n",
    "            # Add the feature score to the total score\n",
    "            total_score += feature_score\n",
    "            # Store the individual score for the feature\n",
    "            individual_scores[feature] = {\n",
    "                \"student_count\": student_count,\n",
    "                \"teacher_count\": teacher_count,\n",
    "                \"score\": f\"{student_count}/{teacher_count}\",\n",
    "                \"feature_score\": feature_score\n",
    "            }\n",
    "        else:\n",
    "            # If the feature is not present in the student's solution\n",
    "            individual_scores[feature] = {\n",
    "                \"student_count\": 0,\n",
    "                \"teacher_count\": teacher_count,\n",
    "                \"score\": f\"0/{teacher_count}\",\n",
    "                \"feature_score\": 0\n",
    "            }\n",
    "    \n",
    "    # Calculate the final score percentage\n",
    "    num_features = len(teacher_solution)\n",
    "    final_score_percentage = total_score / num_features * 100 if num_features > 0 else 0\n",
    "    return individual_scores, final_score_percentage\n",
    "\n",
    "# Example usage:\n",
    "# teacher_solution = {'NF': 4, 'NP': 4, 'NPt-s': 1, 'NAdd-s': 1, 'NAdd-B': 1, 'NAdd-A': 1}\n",
    "# student_solution = {'NF': 4, 'NP': 7, 'NPt-s': 1, 'NAdd-s': 1, 'NAdd-B': 1, 'NAdd-A': 1}\n",
    "\n",
    "# individual_scores, final_score_percentage = calculate_individual_scores(teacher_solution, student_solution)\n",
    "# print(\"Individual scores:\", individual_scores)\n",
    "# print(\"Final score percentage:\", final_score_percentage)\n"
   ]
  },
  {
   "cell_type": "markdown",
   "metadata": {},
   "source": [
    "## Main Function"
   ]
  },
  {
   "cell_type": "code",
   "execution_count": 4,
   "metadata": {
    "scrolled": true
   },
   "outputs": [
    {
     "name": "stdout",
     "output_type": "stream",
     "text": [
      "Extracted features from Student:\n",
      "{'NF': 3, 'NP': 3, 'NC': 3, 'NR': 6, 'NFRec': 0, 'NCRec': 0, 'NIFPar': 0, 'NRRec': 0, 'NRNRec': 0}\n",
      "Individual scores: {'NF': {'student_count': 3, 'teacher_count': 3, 'score': '3/3', 'feature_score': 1}, 'NP': {'student_count': 3, 'teacher_count': 3, 'score': '3/3', 'feature_score': 1}, 'NC': {'student_count': 3, 'teacher_count': 4, 'score': '3/4', 'feature_score': 0.75}, 'NR': {'student_count': 6, 'teacher_count': 6, 'score': '6/6', 'feature_score': 1}, 'NFRec': {'student_count': 0, 'teacher_count': 1, 'score': '0/1', 'feature_score': 0}, 'NCRec': {'student_count': 0, 'teacher_count': 1, 'score': '0/1', 'feature_score': 0}, 'NIFPar': {'student_count': 0, 'teacher_count': 1, 'score': '0/1', 'feature_score': 0}, 'NRRec': {'student_count': 0, 'teacher_count': 1, 'score': '0/1', 'feature_score': 0}, 'NRNRec': {'student_count': 0, 'teacher_count': 1, 'score': '0/1', 'feature_score': 0}}\n",
      "Final score percentage: 41.66666666666667\n"
     ]
    }
   ],
   "source": [
    "if __name__ == \"__main__\":\n",
    "    # Specify the source code file and output file for the AST\n",
    "    #source_code_file = 'test.cpp'\n",
    "    #xml_output_file = 'ast.xml'\n",
    "\n",
    "    # Generate AST\n",
    "    #generate_ast(source_code_file, xml_output_file)\n",
    "\n",
    "    # Example usage\n",
    "    xml_file = CODE_INPUT+\"/ast1.xml\"\n",
    "    #xml_file = CODE_INPUT+\"/pointers.xml\"\n",
    "    #xml_file = CODE_INPUT+\"/arrPointer.xml\"\n",
    "    #xml_file = CODE_INPUT+\"/structExample.xml\"\n",
    "    #xml_file = CODE_INPUT+\"/typedefExample.xml\"\n",
    "    #xml_file = CODE_INPUT+\"/recursionExample.xml\"\n",
    "    #xml_file = CODE_INPUT+\"/mallocExample.xml\"\n",
    "    #xml_file = CODE_INPUT+\"/sizeofExample.xml\"\n",
    "\n",
    "    root =  parse_xml(xml_file)\n",
    "    \n",
    "    json_file = JSON_FILE\n",
    "    student_solution, teacher_solution = extract_features(root, json_file)\n",
    "\n",
    "    print(\"Extracted features from Student:\")\n",
    "    print(student_solution)\n",
    "\n",
    "    individual_scores, final_score_percentage = calculate_individual_scores(teacher_solution, student_solution)\n",
    "    print(\"Individual scores:\", individual_scores)\n",
    "    print(\"Final score percentage:\", final_score_percentage)"
   ]
  }
 ],
 "metadata": {
  "kernelspec": {
   "display_name": "Python 3 (ipykernel)",
   "language": "python",
   "name": "python3"
  },
  "language_info": {
   "codemirror_mode": {
    "name": "ipython",
    "version": 3
   },
   "file_extension": ".py",
   "mimetype": "text/x-python",
   "name": "python",
   "nbconvert_exporter": "python",
   "pygments_lexer": "ipython3",
   "version": "3.11.4"
  }
 },
 "nbformat": 4,
 "nbformat_minor": 2
}
