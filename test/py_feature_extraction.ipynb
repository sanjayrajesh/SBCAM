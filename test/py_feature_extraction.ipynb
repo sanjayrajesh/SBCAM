{
 "cells": [
  {
   "cell_type": "code",
   "execution_count": 2,
   "id": "d9ae99c6",
   "metadata": {},
   "outputs": [],
   "source": [
    "import xml.etree.ElementTree as ET\n",
    "\n",
    "from py_constants import NAMESPACE_CPP, NAMESPACE_SRC"
   ]
  },
  {
   "cell_type": "markdown",
   "id": "8929126c",
   "metadata": {},
   "source": [
    "## Get the name of the packages used"
   ]
  },
  {
   "cell_type": "code",
   "execution_count": 86,
   "id": "e28fbaf4",
   "metadata": {},
   "outputs": [
    {
     "name": "stdout",
     "output_type": "stream",
     "text": [
      "<iostream>\n",
      "<cmath>\n"
     ]
    }
   ],
   "source": [
    "def get_package_names_used_in_code(root):\n",
    "    # Find all cpp:file elements and extract their text content\n",
    "    cpp_files = [file_element.text for file_element in root.findall('.//cpp:file', namespaces=NAMESPACE_CPP)]\n",
    "    return cpp_files\n",
    "\n",
    "# Example usage\n",
    "#cpp_files = get_package_names_used_in_code(root)\n",
    "#for file_content in cpp_files:\n",
    "#    print(file_content)"
   ]
  },
  {
   "cell_type": "markdown",
   "id": "fc709852",
   "metadata": {},
   "source": [
    "## Get the name of the Functions"
   ]
  },
  {
   "cell_type": "code",
   "execution_count": 87,
   "id": "49eed22a",
   "metadata": {},
   "outputs": [
    {
     "name": "stdout",
     "output_type": "stream",
     "text": [
      "Names: ['isPrime', 'factorial', 'fibonacci', 'main']\n"
     ]
    }
   ],
   "source": [
    "def extract_function_names_from_code(root):\n",
    "    features = {'names': []}\n",
    "    name_elems = root.findall('.//src:function/src:name', namespaces=NAMESPACE_SRC)\n",
    "    for name_elem in name_elems:\n",
    "        features['names'].append(name_elem.text)\n",
    "\n",
    "    return features\n",
    "\n",
    "# Example usage\n",
    "#extracted_features = extract_function_names_from_code(root)\n",
    "#print(\"Names:\", extracted_features['names'])"
   ]
  },
  {
   "cell_type": "markdown",
   "id": "750bb0b1",
   "metadata": {},
   "source": [
    "## 1. Number of Functions (NF)"
   ]
  },
  {
   "cell_type": "code",
   "execution_count": 88,
   "id": "e3ca2175",
   "metadata": {},
   "outputs": [
    {
     "name": "stdout",
     "output_type": "stream",
     "text": [
      "Total number of function declarations: 4\n"
     ]
    }
   ],
   "source": [
    "def count_function_declarations(root):\n",
    "    # Count the number of function names within function elements\n",
    "    count = sum(1 for _ in root.findall('.//src:function/src:name', namespaces=NAMESPACE_SRC))\n",
    "    return count\n",
    "\n",
    "# Example usage\n",
    "#function_declaration_count = count_function_declarations(root)\n",
    "#print(f\"Total number of function declarations: {function_declaration_count}\")"
   ]
  },
  {
   "cell_type": "markdown",
   "id": "b22a85a5",
   "metadata": {},
   "source": [
    "## Number of Functions (NF) excluding main()"
   ]
  },
  {
   "cell_type": "code",
   "execution_count": 90,
   "id": "21397513",
   "metadata": {},
   "outputs": [
    {
     "name": "stdout",
     "output_type": "stream",
     "text": [
      "Total number of function declarations (excluding main): 3\n"
     ]
    }
   ],
   "source": [
    "def count_function_declarations_excluding_main(root):\n",
    "    count = 0\n",
    "    # Find all function names within function elements\n",
    "    for function_name in root.findall('.//src:function/src:name', namespaces=NAMESPACE_SRC):\n",
    "        # Check if the function name is not equal to \"main\"\n",
    "        if function_name.text != \"main\":\n",
    "            count += 1\n",
    "    return count\n",
    "\n",
    "# Example usage\n",
    "#function_declaration_count = count_function_declarations_excluding_main(root)\n",
    "#print(f\"Total number of function declarations (excluding main): {function_declaration_count}\")"
   ]
  },
  {
   "cell_type": "markdown",
   "id": "0c7b6609",
   "metadata": {},
   "source": [
    "## 3. Number of Parameters (NP) in a function"
   ]
  },
  {
   "cell_type": "code",
   "execution_count": 91,
   "id": "b4a4f2e1",
   "metadata": {},
   "outputs": [
    {
     "name": "stdout",
     "output_type": "stream",
     "text": [
      "Function isPrime has 1 parameters.\n",
      "Function factorial has 1 parameters.\n",
      "Function fibonacci has 1 parameters.\n",
      "Function main has 0 parameters.\n",
      "Total count: 3\n"
     ]
    }
   ],
   "source": [
    "def get_parameter_count_in_functions(root):\n",
    "    function_parameter_counts = {}\n",
    "    # Iterate through all function elements\n",
    "    for function in root.findall('.//src:function', namespaces=NAMESPACE_SRC):\n",
    "        function_name = function.find(\"./src:name\", namespaces=NAMESPACE_SRC).text\n",
    "        parameter_list = function.find(\"./src:parameter_list\", namespaces=NAMESPACE_SRC)\n",
    "        # Count the number of parameters in the parameter list\n",
    "        parameter_count = sum(1 for _ in parameter_list.findall('./src:parameter', namespaces=NAMESPACE_SRC))\n",
    "        # Store the parameter count for the function\n",
    "        function_parameter_counts[function_name] = parameter_count\n",
    "    #return function_parameter_counts\n",
    "    return sum(function_parameter_counts.values())\n",
    "\n",
    "# Example usage\n",
    "#parameter_counts = get_parameter_count_in_functions(root)\n",
    "#for function_name, parameter_count in parameter_counts.items():\n",
    "#    print(f\"Function {function_name} has {parameter_count} parameters.\")\n",
    "#total_count = sum(parameter_counts.values())\n",
    "#print(\"Total count:\", total_count)"
   ]
  },
  {
   "cell_type": "markdown",
   "id": "84c9400c",
   "metadata": {},
   "source": [
    "## 7. Number of Simple Pointers (NPt-s)"
   ]
  },
  {
   "cell_type": "code",
   "execution_count": 33,
   "id": "52d84b18",
   "metadata": {},
   "outputs": [
    {
     "name": "stdout",
     "output_type": "stream",
     "text": [
      "Number of simple pointers (NPt-s): 5\n"
     ]
    }
   ],
   "source": [
    "def count_simple_pointers(root):\n",
    "    simple_pointer_count = 0\n",
    "    # Find all parameter elements\n",
    "    parameters = root.findall('.//src:parameter', namespaces=NAMESPACE_SRC)\n",
    "    # Iterate over each parameter\n",
    "    for parameter in parameters:\n",
    "        # Check if the parameter has a modifier tag with text '*'\n",
    "        modifier = parameter.find('.//src:modifier', namespaces=NAMESPACE_SRC)\n",
    "        if modifier is not None and modifier.text == '*':\n",
    "            simple_pointer_count += 1\n",
    "    return simple_pointer_count\n",
    "\n",
    "# Example usage\n",
    "#simple_pointer_count = count_simple_pointers(root)\n",
    "#print(f\"Number of simple pointers (NPt-s): {simple_pointer_count}\")"
   ]
  },
  {
   "cell_type": "markdown",
   "id": "5d141d98",
   "metadata": {},
   "source": [
    "## Number of Simple Pointers (NPt-s) by Function name"
   ]
  },
  {
   "cell_type": "code",
   "execution_count": 95,
   "id": "aad0d2b6",
   "metadata": {},
   "outputs": [
    {
     "name": "stdout",
     "output_type": "stream",
     "text": [
      "func1 has 2 pointers\n",
      "func2 has 2 pointers\n",
      "func3 has 1 pointers\n",
      "main has 0 pointers\n"
     ]
    }
   ],
   "source": [
    "def count_simple_pointers_by_fun_name(root):\n",
    "    # Initialize dictionary to store count of pointers for each function\n",
    "    function_pointers = {}\n",
    "\n",
    "    # Find all function elements\n",
    "    functions = root.findall('.//src:function', namespaces=NAMESPACE_SRC)\n",
    "    # Iterate over each function\n",
    "    for function in functions:\n",
    "        # Extract function name\n",
    "        function_name = function.find('./src:name', namespaces=NAMESPACE_SRC).text \n",
    "        # Initialize count for simple pointers for this function\n",
    "        simple_pointer_count = 0\n",
    "        # Find all parameter elements within this function\n",
    "        parameters = function.findall('.//src:parameter', namespaces=NAMESPACE_SRC)\n",
    "        # Iterate over each parameter\n",
    "        for parameter in parameters:\n",
    "            # Check if the parameter has a modifier tag with text '*'\n",
    "            modifier = parameter.find('.//src:modifier', namespaces=NAMESPACE_SRC)\n",
    "            if modifier is not None and modifier.text == '*':\n",
    "                simple_pointer_count += 1\n",
    "        # Store the count of simple pointers for this function\n",
    "        function_pointers[function_name] = simple_pointer_count\n",
    "    return function_pointers\n",
    "\n",
    "# Example usage\n",
    "#function_pointers = count_simple_pointers_by_fun_name(root)\n",
    "#for function_name, pointer_count in function_pointers.items():\n",
    "#    print(f\"{function_name} has {pointer_count} pointers\")"
   ]
  },
  {
   "cell_type": "markdown",
   "id": "b33a4a36",
   "metadata": {},
   "source": [
    "## 8. Number of Simple Address (NAdd-s)"
   ]
  },
  {
   "cell_type": "code",
   "execution_count": 37,
   "id": "bdd7d2ec",
   "metadata": {},
   "outputs": [
    {
     "name": "stdout",
     "output_type": "stream",
     "text": [
      "Number of simple addresses (NAdd-s): 5\n"
     ]
    }
   ],
   "source": [
    "def count_simple_addresses(root):\n",
    "    # Initialize count for simple addresses\n",
    "    simple_address_count = 0\n",
    "    # Find all function calls\n",
    "    function_calls = root.findall('.//src:call', namespaces=NAMESPACE_SRC)\n",
    "    # Iterate over each function call\n",
    "    for call in function_calls:\n",
    "        # Extract arguments from the call\n",
    "        arguments = call.findall('.//src:argument', namespaces=NAMESPACE_SRC)\n",
    "        # Iterate over each argument\n",
    "        for argument in arguments:\n",
    "            # Check if the argument has an address operator (&)\n",
    "            address_operator = argument.find('.//src:operator', namespaces=NAMESPACE_SRC)\n",
    "            #print(\"printing: \",address_operator)\n",
    "            if address_operator is not None and address_operator.text == '&' :\n",
    "                simple_address_count += 1\n",
    "    return simple_address_count\n",
    "\n",
    "# Example usage\n",
    "#simple_address_count = count_simple_addresses(root)\n",
    "#print(f\"Number of simple addresses (NAdd-s): {simple_address_count}\")"
   ]
  },
  {
   "cell_type": "markdown",
   "id": "89536f78",
   "metadata": {},
   "source": [
    "## Number of Simple Address (NAdd-s) with the function name and position of & in parameter"
   ]
  },
  {
   "cell_type": "code",
   "execution_count": 39,
   "id": "410a12b4",
   "metadata": {},
   "outputs": [
    {
     "name": "stdout",
     "output_type": "stream",
     "text": [
      "func1 has addresses for pointers in param 2, 3.\n",
      "func2 has addresses for pointers in param 1, 2.\n",
      "func3 has addresses for pointers in param 1.\n"
     ]
    }
   ],
   "source": [
    "def get_function_calls(root):\n",
    "    function_calls = {}\n",
    "    # Find all function calls\n",
    "    calls = root.findall('.//src:call', namespaces=NAMESPACE_SRC)\n",
    "    # Iterate over each function call\n",
    "    for call in calls:\n",
    "        # Extract function name\n",
    "        function_name = call.find('.//src:name', namespaces=NAMESPACE_SRC).text\n",
    "        # Extract arguments from the call\n",
    "        arguments = call.findall('.//src:argument', namespaces=NAMESPACE_SRC)\n",
    "        # List to store parameter indices with address operator\n",
    "        address_parameters = []\n",
    "        # Iterate over each argument\n",
    "        for index, argument in enumerate(arguments, start=1):\n",
    "            # Check if the argument has an address operator (&)\n",
    "            address_operator = argument.find('.//src:operator', namespaces=NAMESPACE_SRC)\n",
    "            if address_operator is not None and address_operator.text == '&' :\n",
    "                address_parameters.append(index)\n",
    "        # Store the address parameters for this function call\n",
    "        if function_name not in function_calls:\n",
    "            function_calls[function_name] = address_parameters\n",
    "        else:\n",
    "            function_calls[function_name].extend(address_parameters)\n",
    "\n",
    "    return function_calls\n",
    "\n",
    "def print_address_parameters(function_calls):\n",
    "    for function_name, parameters in function_calls.items():\n",
    "        if parameters:\n",
    "            parameter_indices = ', '.join(str(param) for param in parameters)\n",
    "            print(f\"{function_name} has addresses for pointers in param {parameter_indices}.\")\n",
    "        else:\n",
    "            print(f\"{function_name} does not have addresses for pointers.\")\n",
    "\n",
    "# Example usage\n",
    "#function_calls = get_function_calls(root)\n",
    "#print_address_parameters(function_calls)"
   ]
  },
  {
   "cell_type": "markdown",
   "id": "dae3098a",
   "metadata": {},
   "source": [
    "## 9. Number of Array Pointers (NPt-ds)"
   ]
  },
  {
   "cell_type": "code",
   "execution_count": 99,
   "id": "9eb4f823",
   "metadata": {},
   "outputs": [
    {
     "name": "stdout",
     "output_type": "stream",
     "text": [
      "Number of array pointers (NPt-ds): 3\n"
     ]
    }
   ],
   "source": [
    "def count_array_pointers(root):\n",
    "    array_pointer_count = 0\n",
    "    # Find all function parameters\n",
    "    parameters = root.findall('.//src:parameter', namespaces=NAMESPACE_SRC)\n",
    "    # Iterate over each parameter\n",
    "    for parameter in parameters:\n",
    "        # Check if the parameter declaration contains an array identifier\n",
    "        parameter_name = parameter.find('.//src:decl/src:name', namespaces=NAMESPACE_SRC)\n",
    "        if parameter_name is not None and parameter_name.find('src:index', namespaces=NAMESPACE_SRC) is not None:\n",
    "            array_pointer_count += 1\n",
    "    return array_pointer_count\n",
    "\n",
    "# Example usage\n",
    "#array_pointer_count = count_array_pointers(root)\n",
    "#print(f\"Number of array pointers (NPt-ds): {array_pointer_count}\")"
   ]
  },
  {
   "cell_type": "markdown",
   "id": "902718cc",
   "metadata": {},
   "source": [
    "## Number of Array Pointers (NPt-ds) with the function name and position of [] in parameter"
   ]
  },
  {
   "cell_type": "code",
   "execution_count": 98,
   "id": "373179a8",
   "metadata": {},
   "outputs": [
    {
     "name": "stdout",
     "output_type": "stream",
     "text": [
      "printArray has arrays in param 1\n",
      "printArrays has arrays in param 1, 3\n"
     ]
    }
   ],
   "source": [
    "def find_array_parameters_with_fun_name(root):\n",
    "    # Initialize a dictionary to store parameter positions with array identifiers\n",
    "    array_parameters = {}\n",
    "    # Find all function declarations\n",
    "    functions = root.findall('.//src:function', namespaces=NAMESPACE_SRC)\n",
    "    # Iterate over each function declaration\n",
    "    for function in functions:\n",
    "        function_name = function.find('./src:name', namespaces=NAMESPACE_SRC).text\n",
    "        parameters = function.findall('.//src:parameter', namespaces=NAMESPACE_SRC)\n",
    "        array_positions = []\n",
    "        # Iterate over each parameter\n",
    "        for idx, parameter in enumerate(parameters, start=1):\n",
    "            parameter_name = parameter.find('.//src:decl/src:name', namespaces=NAMESPACE_SRC)\n",
    "            if parameter_name is not None and parameter_name.find('src:index', namespaces=NAMESPACE_SRC) is not None:\n",
    "                array_positions.append(idx)\n",
    "        if array_positions:\n",
    "            array_parameters[function_name] = array_positions\n",
    "    return array_parameters\n",
    "\n",
    "# Example usage\n",
    "#array_parameters = find_array_parameters_with_fun_name(root)\n",
    "#if not array_parameters:\n",
    "#    print(\"No array parameters found in any function.\")\n",
    "#else:\n",
    "#    for function_name, positions in array_parameters.items():\n",
    "#        positions_str = ', '.join(map(str, positions))\n",
    "#        print(f\"{function_name} has arrays in param {positions_str}\")"
   ]
  },
  {
   "cell_type": "markdown",
   "id": "3dfbcf64",
   "metadata": {},
   "source": [
    "## 10. Number of Array Address (NAdd-ds)\n",
    "### This is complicated and NOT DONE"
   ]
  },
  {
   "cell_type": "code",
   "execution_count": 46,
   "id": "d28b7870",
   "metadata": {},
   "outputs": [
    {
     "name": "stdout",
     "output_type": "stream",
     "text": [
      "printing fun_sign: {'printArray': ['int[]', 'int'], 'printArrays': ['int[]', 'int', 'char[]', 'int'], 'main': []}\n",
      "printing fun_calls: [('printArray', ['array', '5']), ('printArrays', ['array1', '5', 'array2', '3'])]\n",
      "Number of Array Addresses (NAdd-ds): 0\n"
     ]
    }
   ],
   "source": [
    "def extract_function_signatures(xml_file):\n",
    "    function_signatures = {}\n",
    "    # Extract function signatures\n",
    "    for function in root.findall('.//src:function', namespaces=NAMESPACE_SRC):\n",
    "        function_name = function.find(\"./src:name\", namespaces=NAMESPACE_SRC).text\n",
    "        parameters = []\n",
    "        for param in function.findall('.//src:parameter', namespaces=NAMESPACE_SRC):\n",
    "            param_type_element = param.find(\"./src:decl/src:type/src:name\", namespaces=NAMESPACE_SRC)\n",
    "            param_type = param_type_element.text\n",
    "            # Check if the parameter type has an index (indicating an array)\n",
    "            if param.find(\"./src:decl//src:index\", namespaces=NAMESPACE_SRC) is not None:\n",
    "                param_type += \"[]\"\n",
    "            parameters.append(param_type)\n",
    "        function_signatures[function_name] = parameters\n",
    "    return function_signatures\n",
    "\n",
    "def extract_function_calls(xml_file):\n",
    "    function_calls = []\n",
    "    # Extract function calls\n",
    "    for call in root.findall('.//src:call', namespaces=NAMESPACE_SRC):\n",
    "        function_name = call.find(\"./src:name\", namespaces=NAMESPACE_SRC).text\n",
    "        arguments = []\n",
    "        # Extract arguments from the argument list\n",
    "        for argument in call.findall('.//src:argument', namespaces=NAMESPACE_SRC):\n",
    "            # Extract the expression within the argument\n",
    "            expr = argument.find(\"./src:expr\", namespaces=NAMESPACE_SRC)\n",
    "            if expr is not None:\n",
    "                # Get the text of the expression\n",
    "                expr_text = ''.join(expr.itertext())\n",
    "                arguments.append(expr_text)\n",
    "        function_calls.append((function_name, arguments))\n",
    "    return function_calls\n",
    "\n",
    "def extract_array_addresses(root):\n",
    "    function_signatures = extract_function_signatures(root)\n",
    "    function_calls = extract_function_calls(root)\n",
    "    print(\"printing fun_sign:\", function_signatures)\n",
    "    print(\"printing fun_calls:\", function_calls)\n",
    "    array_addresses_count = 0\n",
    "    for function_name, parameters in function_signatures.items():\n",
    "        for param in parameters:\n",
    "            # Check if the parameter is an array\n",
    "            if \"[]\" in param:\n",
    "                for called_function, arguments in function_calls:\n",
    "                    # Check if the array parameter name is used as an argument in function calls\n",
    "                    if function_name == called_function and param in arguments:\n",
    "                        array_addresses_count += 1\n",
    "    return array_addresses_count\n",
    "\n",
    "# Example usage\n",
    "#array_addresses_count = extract_array_addresses(root)\n",
    "#print(f\"Number of Array Addresses (NAdd-ds): {array_addresses_count}\")"
   ]
  },
  {
   "cell_type": "markdown",
   "id": "4d63f074",
   "metadata": {},
   "source": [
    "## 11. Number of Structs (NStr)"
   ]
  },
  {
   "cell_type": "code",
   "execution_count": 48,
   "id": "81e7137e",
   "metadata": {},
   "outputs": [
    {
     "name": "stdout",
     "output_type": "stream",
     "text": [
      "Number of Structs (NStr): 2\n"
     ]
    }
   ],
   "source": [
    "def count_structs(root):\n",
    "    # Initialize a counter for structs\n",
    "    struct_count = 0\n",
    "    # Iterate through lines in the XML file\n",
    "    for line in root.findall('.//src:struct', namespaces=NAMESPACE_SRC):\n",
    "        # Increment struct count for each occurrence of 'struct'\n",
    "        struct_count += 1\n",
    "    return struct_count\n",
    "\n",
    "# Example usage\n",
    "#struct_count = count_structs(root)\n",
    "#print(f\"Number of Structs (NStr): {struct_count}\")"
   ]
  },
  {
   "cell_type": "markdown",
   "id": "8a8e822c",
   "metadata": {},
   "source": [
    "## 12. Number of Struct Members (NStrM)"
   ]
  },
  {
   "cell_type": "code",
   "execution_count": 49,
   "id": "0690b2e8",
   "metadata": {},
   "outputs": [
    {
     "name": "stdout",
     "output_type": "stream",
     "text": [
      "printing struct_declarations:  {'Point': ['x', 'y'], 'Student': ['id', 'name', 'gpa']}\n",
      "Number of Struct Members (NStrM): 5\n"
     ]
    }
   ],
   "source": [
    "def extract_struct_declarations(root):\n",
    "    struct_declarations = {}\n",
    "    # Extract struct declarations\n",
    "    for struct in root.findall('.//src:struct', namespaces=NAMESPACE_SRC):\n",
    "        struct_name = struct.find(\"./src:name\", namespaces=NAMESPACE_SRC).text\n",
    "        members = []\n",
    "        # Extract members within the struct\n",
    "        for member in struct.findall('.//src:decl', namespaces=NAMESPACE_SRC):\n",
    "            member_name = member.find(\"./src:name\", namespaces=NAMESPACE_SRC).text\n",
    "            members.append(member_name)\n",
    "        struct_declarations[struct_name] = members\n",
    "    return struct_declarations\n",
    "\n",
    "def count_struct_members(root):\n",
    "    struct_declarations = extract_struct_declarations(root)\n",
    "    print(\"printing struct_declarations: \",struct_declarations)\n",
    "    total_members = 0\n",
    "    # Count the number of struct members for each struct\n",
    "    for struct_name, members in struct_declarations.items():\n",
    "        total_members += len(members)\n",
    "    return total_members\n",
    "\n",
    "# Example usage\n",
    "#total_struct_members = count_struct_members(root)\n",
    "#print(f\"Number of Struct Members (NStrM): {total_struct_members}\")"
   ]
  },
  {
   "cell_type": "markdown",
   "id": "be80af17",
   "metadata": {},
   "source": [
    "## 13. Number of Struct Typedefs (NStrT)"
   ]
  },
  {
   "cell_type": "code",
   "execution_count": 51,
   "id": "f6c589a2",
   "metadata": {},
   "outputs": [
    {
     "name": "stdout",
     "output_type": "stream",
     "text": [
      "printing  Person\n",
      "printing  Point\n",
      "Number of Struct Typedefs (NStrT): 2\n"
     ]
    }
   ],
   "source": [
    "def count_struct_typedefs(root):\n",
    "    typedefs = []\n",
    "    # Extract typedef commands defining structs\n",
    "    for typedef in root.findall('.//src:typedef', namespaces=NAMESPACE_SRC):\n",
    "        # Check if the typedef is for a struct\n",
    "        if typedef.find('.//src:struct', namespaces=NAMESPACE_SRC) is not None:\n",
    "            typedef_name = typedef.find('./src:name', namespaces=NAMESPACE_SRC).text\n",
    "            print(\"printing \",typedef_name)\n",
    "            typedefs.append(typedef_name)\n",
    "    return len(typedefs)\n",
    "\n",
    "# Example usage\n",
    "#struct_typedef_count = count_struct_typedefs(root)\n",
    "#print(f\"Number of Struct Typedefs (NStrT): {struct_typedef_count}\")"
   ]
  },
  {
   "cell_type": "markdown",
   "id": "99e7d8bc",
   "metadata": {},
   "source": [
    "## 14.  Number of Struct Instances (NStrI)"
   ]
  },
  {
   "cell_type": "code",
   "execution_count": 53,
   "id": "eb0236a2",
   "metadata": {},
   "outputs": [
    {
     "name": "stdout",
     "output_type": "stream",
     "text": [
      "Number of Struct Instances (NStrI):\n",
      "Person: 1\n",
      "Point: 1\n",
      "Total count: 2\n"
     ]
    }
   ],
   "source": [
    "def extract_typedef_aliases(root):\n",
    "    typedef_aliases = []\n",
    "    # Extract typedef commands defining structs\n",
    "    for typedef in root.findall('.//src:typedef', namespaces=NAMESPACE_SRC):\n",
    "        # Check if the typedef is for a struct\n",
    "        if typedef.find('.//src:struct', namespaces=NAMESPACE_SRC) is not None:\n",
    "            typedef_alias = typedef.find('./src:name', namespaces=NAMESPACE_SRC).text\n",
    "            typedef_aliases.append(typedef_alias)\n",
    "    return typedef_aliases\n",
    "\n",
    "def count_struct_instances(root):\n",
    "    typedef_aliases = extract_typedef_aliases(root)\n",
    "    struct_instance_count = {alias: 0 for alias in typedef_aliases}\n",
    "    #print(\"printing struct_instance_count \",struct_instance_count)\n",
    "    # Count instances of typedef aliases in the code\n",
    "    for line in root.findall('.//src:block//src:decl/src:type/src:name', namespaces=NAMESPACE_SRC):\n",
    "        line_text = line.text.strip() if line.text else ''\n",
    "        for alias in typedef_aliases:\n",
    "            if line_text.startswith(alias):\n",
    "                struct_instance_count[alias] += 1\n",
    "    #return struct_instance_count\n",
    "    return sum(struct_instance_count.values())\n",
    "\n",
    "# Example usage\n",
    "#struct_instance_count = count_struct_instances(root)\n",
    "#print(\"Number of Struct Instances (NStrI):\")\n",
    "#for alias, count in struct_instance_count.items():\n",
    "#    print(f\"{alias}: {count}\")\n",
    "#total_count = sum(struct_instance_count.values())\n",
    "#print(\"Total count:\", total_count)"
   ]
  },
  {
   "cell_type": "markdown",
   "id": "e596ddc6",
   "metadata": {},
   "source": [
    "## 15. Number of Struct Calls (NStrC)"
   ]
  },
  {
   "cell_type": "code",
   "execution_count": 55,
   "id": "9c6a3b2e",
   "metadata": {},
   "outputs": [
    {
     "name": "stdout",
     "output_type": "stream",
     "text": [
      "printing struct_inst_name:  {'Point': ['p1'], 'Student': ['s1', 's2']}\n",
      "printing inst_names:  ['p1']\n",
      "printing inst_names:  ['s1', 's2']\n",
      "Number of Struct Calls (NStrC):\n",
      "Point: 2\n",
      "Student: 7\n",
      "Total count: 9\n"
     ]
    }
   ],
   "source": [
    "def extract_struct_instances(root):\n",
    "    struct_instances = []\n",
    "    # Extract instances of the heterogeneous data structure\n",
    "    for instance in root.findall('.//src:struct', namespaces=NAMESPACE_SRC):\n",
    "        type_name = instance.find('./src:name', namespaces=NAMESPACE_SRC).text\n",
    "        struct_instances.append(type_name)\n",
    "    return struct_instances\n",
    "\n",
    "def count_struct_calls(root):\n",
    "    struct_instances = extract_struct_instances(root)\n",
    "    struct_inst_name={}\n",
    "    # Search for each instance through the source code and count the occurrences\n",
    "    declarations =root.findall('.//src:block//src:decl', namespaces=NAMESPACE_SRC)\n",
    "    for call in declarations:\n",
    "        declaration_type_element = call.find('./src:type/src:name', namespaces=NAMESPACE_SRC)\n",
    "        if declaration_type_element is not None:\n",
    "            declaration_type = declaration_type_element.text\n",
    "            if declaration_type in struct_instances:\n",
    "                inst_name_element = call.find('./src:name', namespaces=NAMESPACE_SRC)\n",
    "                if inst_name_element is not None:\n",
    "                    inst_name = inst_name_element.text\n",
    "                    if declaration_type in struct_inst_name:\n",
    "                        struct_inst_name[declaration_type].append(inst_name)\n",
    "                    else:\n",
    "                        struct_inst_name[declaration_type] = [inst_name]\n",
    "            \n",
    "    print(\"printing struct_inst_name: \",struct_inst_name)\n",
    "    struct_call_count = {instance: 0 for instance in struct_instances}\n",
    "    for struct_name, inst_names in struct_inst_name.items():\n",
    "        print(\"printing inst_names: \", inst_names)\n",
    "        for inst in inst_names:\n",
    "            for check_inst in root.findall('.//src:expr_stmt/src:expr//src:name', namespaces=NAMESPACE_SRC):\n",
    "                if check_inst.text == inst:\n",
    "                    #print(\"asDfgbvfds\")\n",
    "                    struct_call_count[struct_name] += 1\n",
    "    #return struct_call_count\n",
    "    return sum(struct_call_count.values())\n",
    "\n",
    "# Example usage\n",
    "#struct_call_count = count_struct_calls(root)\n",
    "#print(\"Number of Struct Calls (NStrC):\")\n",
    "#for instance, count in struct_call_count.items():\n",
    "#    print(f\"{instance}: {count}\")\n",
    "#total_count = sum(struct_call_count.values())\n",
    "#print(\"Total count:\", total_count)"
   ]
  },
  {
   "cell_type": "markdown",
   "id": "b4d50277",
   "metadata": {},
   "source": [
    "## 16. Number of Recursive Functions (NFRec)"
   ]
  },
  {
   "cell_type": "code",
   "execution_count": 111,
   "id": "8351bc64",
   "metadata": {},
   "outputs": [
    {
     "name": "stdout",
     "output_type": "stream",
     "text": [
      "printing function_bodies: {'factorial': ['factorial'], 'fibonacci': ['fibonacci', 'fibonacci'], 'power': ['power'], 'recursiveFuncWith2FuncReturns': ['recursiveFuncWith2FuncReturns', 'recursiveFuncWith2FuncReturns'], 'main': ['factorial', 'fibonacci', 'power', 'recursiveFuncWith2FuncReturns', 'recursiveFuncWith2FuncReturns']}\n",
      "Number of Recursive Functions (NFRec): 4\n"
     ]
    }
   ],
   "source": [
    "def extract_function_bodies_to_check_if_recursive(xml_file):\n",
    "    #srcml --xpath=\"//src:function//src:block//src:call/src:name\" recursionExample.cpp\n",
    "    function_bodies = {}\n",
    "    for function in root.findall('.//src:function', namespaces=NAMESPACE_SRC):\n",
    "        function_name = function.find(\"./src:name\", namespaces=NAMESPACE_SRC).text\n",
    "        block = function.find('.//src:block', namespaces=NAMESPACE_SRC)\n",
    "        if block is not None:\n",
    "            func_calls_in_body = block.findall('.//src:call/src:name', namespaces=NAMESPACE_SRC)\n",
    "            func_calls = [call.text for call in func_calls_in_body]\n",
    "            function_bodies[function_name] = func_calls\n",
    "    return function_bodies\n",
    "\n",
    "def count_recursive_functions(root):\n",
    "    function_bodies = extract_function_bodies_to_check_if_recursive(root)\n",
    "    print(\"printing function_bodies:\",function_bodies)\n",
    "    recursive_function_count = 0\n",
    "    for function_name, body in function_bodies.items():\n",
    "        #print(\"printing funcName: \",function_name)\n",
    "        #print(\"printing body: \",body)\n",
    "        # Check if the function name appears in its own body\n",
    "        if function_name in body:\n",
    "            recursive_function_count += 1\n",
    "    return recursive_function_count\n",
    "\n",
    "# Example usage\n",
    "#recursive_function_count = count_recursive_functions(root)\n",
    "#print(f\"Number of Recursive Functions (NFRec): {recursive_function_count}\")"
   ]
  },
  {
   "cell_type": "markdown",
   "id": "4042ec60",
   "metadata": {},
   "source": [
    "## 17. Number of Recursive Functions Calls (NCRec)"
   ]
  },
  {
   "cell_type": "code",
   "execution_count": 139,
   "id": "adee258e",
   "metadata": {},
   "outputs": [
    {
     "name": "stdout",
     "output_type": "stream",
     "text": [
      "printing recursive_functions:  ['factorial', 'fibonacci', 'power', 'recursiveFuncWith2FuncReturns']\n",
      "Number of Recursive Function Calls (NCRec): 5\n"
     ]
    }
   ],
   "source": [
    "def count_recursive_function_calls(root):\n",
    "    function_bodies = extract_function_bodies_to_check_if_recursive(root)\n",
    "    #print(\"printing function_bodies:\",function_bodies)\n",
    "    recursive_functions = [func_name for func_name, body in function_bodies.items() if func_name in body]\n",
    "    print(\"printing recursive_functions: \",recursive_functions)\n",
    "    recursive_function_call_count = 0\n",
    "    for func_name, body in function_bodies.items():\n",
    "        if func_name not in recursive_functions:\n",
    "            for recursive_func_name in recursive_functions:\n",
    "                #print(\"printing recursive_func_name: \",recursive_func_name)\n",
    "                #print(\"printing body: \",body)\n",
    "                recursive_function_call_count += body.count(recursive_func_name)\n",
    "\n",
    "    return recursive_function_call_count\n",
    "\n",
    "# Example usage\n",
    "#recursive_function_call_count = count_recursive_function_calls(root)\n",
    "#print(f\"Number of Recursive Function Calls (NCRec): {recursive_function_call_count}\")"
   ]
  },
  {
   "cell_type": "markdown",
   "id": "7b29f9be",
   "metadata": {},
   "source": [
    "## 18. Number of Parameters in Conditional (NIFPar)"
   ]
  },
  {
   "cell_type": "code",
   "execution_count": 194,
   "id": "33d47550",
   "metadata": {
    "scrolled": true
   },
   "outputs": [
    {
     "name": "stdout",
     "output_type": "stream",
     "text": [
      "printing recursive_functions:  ['factorial', 'fibonacci', 'power', 'recursiveFuncWith2FuncReturns']\n",
      "Number of Parameters in Conditional (NIFPar): 5\n"
     ]
    }
   ],
   "source": [
    "def extract_function_bodies_as_et_object(root):\n",
    "    function_bodies = {}\n",
    "    for function in root.findall('.//src:function', namespaces=NAMESPACE_SRC):\n",
    "        function_name = function.find(\"./src:name\", namespaces=NAMESPACE_SRC).text\n",
    "        block = function.find('.//src:block', namespaces=NAMESPACE_SRC)\n",
    "        if block is not None:\n",
    "            #function_body = ET.tostring(block, encoding='unicode', method='text').strip()\n",
    "            #function_bodies[function_name] = function_body\n",
    "            function_bodies[function_name] = block\n",
    "    return function_bodies\n",
    "\n",
    "def extract_function_parameters(root):\n",
    "    function_parameters = {}\n",
    "    for function in root.findall('.//src:function', namespaces=NAMESPACE_SRC):\n",
    "        function_name = function.find(\"./src:name\", namespaces=NAMESPACE_SRC).text\n",
    "        parameters = function.findall('.//src:parameter/src:decl/src:name', namespaces=NAMESPACE_SRC)\n",
    "        parameter_names = [param.text for param in parameters]\n",
    "        function_parameters[function_name] = parameter_names\n",
    "    return function_parameters\n",
    "\n",
    "def count_parameters_in_conditional(root):\n",
    "    function_bodies = extract_function_bodies_as_et_object(root)\n",
    "    function_parameters = extract_function_parameters(root)\n",
    "    #print(\"printing function_bodies: \",ET.tostring(function_bodies, encoding='unicode', method='text').strip())\n",
    "    #print(\"printing function_parameters: \",function_parameters)\n",
    "    recursive_functions = []  # List to store names of recursive functions\n",
    "    # Identify recursive functions\n",
    "    for func_name, body in function_bodies.items():\n",
    "        func_calls_in_body = body.findall('.//src:call/src:name', namespaces=NAMESPACE_SRC)\n",
    "        func_calls = [call.text for call in func_calls_in_body]\n",
    "        if func_name in func_calls:\n",
    "            recursive_functions.append(func_name)\n",
    "    print(\"printing recursive_functions: \",recursive_functions)\n",
    "    conditional_parameter_count = 0\n",
    "    for function_name, body in function_bodies.items():\n",
    "        if function_name in recursive_functions:\n",
    "            parameters = function_parameters.get(function_name, [])\n",
    "            if parameters:\n",
    "                for param in parameters:\n",
    "                    #print(\"printing param: \",param)\n",
    "                    check_for_param = root.findall('.//src:function[src:name=\"' + function_name + '\"]//src:if/src:condition//src:name', namespaces=NAMESPACE_SRC)\n",
    "                    for condition in check_for_param:\n",
    "                        if param in condition.text:\n",
    "                            #print(\"Parameter\", param, \"found in function\", function_name, \"within condition:\", condition_text)\n",
    "                            conditional_parameter_count += 1\n",
    "    return conditional_parameter_count\n",
    "\n",
    "# Example usage\n",
    "#conditional_parameter_count = count_parameters_in_conditional(root)\n",
    "#print(f\"Number of Parameters in Conditional (NIFPar): {conditional_parameter_count}\")"
   ]
  },
  {
   "cell_type": "markdown",
   "id": "65839d7e",
   "metadata": {},
   "source": [
    "## 19. Number of Recursive Returns (NRRec)"
   ]
  },
  {
   "cell_type": "code",
   "execution_count": 160,
   "id": "814cba3d",
   "metadata": {},
   "outputs": [
    {
     "name": "stdout",
     "output_type": "stream",
     "text": [
      "printing recursive_functions:  ['factorial', 'fibonacci', 'power', 'recursiveFuncWith2FuncReturns']\n",
      "Number of Recursive Returns (NRRec): 5\n"
     ]
    }
   ],
   "source": [
    "def extract_function_bodies(root):\n",
    "    function_bodies = {}\n",
    "    for function in root.findall('.//src:function', namespaces=NAMESPACE_SRC):\n",
    "        function_name = function.find(\"./src:name\", namespaces=NAMESPACE_SRC).text\n",
    "        block = function.find('.//src:block', namespaces=NAMESPACE_SRC)\n",
    "        if block is not None:\n",
    "            function_body = ET.tostring(block, encoding='unicode')\n",
    "            function_bodies[function_name] = function_body\n",
    "    return function_bodies\n",
    "\n",
    "def count_recursive_returns(root):\n",
    "    function_bodies = extract_function_bodies(root)\n",
    "    recursive_functions = []  # List to store names of recursive functions\n",
    "    #print(\"printing function_bodies: \",function_bodies)\n",
    "    # Identify recursive functions\n",
    "    for func_name, body in function_bodies.items():\n",
    "        func_calls_in_body = ET.fromstring(body).findall('.//src:call/src:name', namespaces=NAMESPACE_SRC)\n",
    "        func_calls = [call.text for call in func_calls_in_body]\n",
    "        if func_name in func_calls:\n",
    "            recursive_functions.append(func_name)\n",
    "    print(\"printing recursive_functions: \",recursive_functions)\n",
    "    recursive_return_count = 0\n",
    "    for func_name, body in function_bodies.items():\n",
    "        return_tags = ET.fromstring(body).findall('.//src:return', namespaces=NAMESPACE_SRC)\n",
    "        if func_name in recursive_functions:\n",
    "            for return_tag in return_tags:\n",
    "                call_tag = return_tag.find('.//src:call/src:name', namespaces=NAMESPACE_SRC)\n",
    "                #print(\"printing call_tag: \",call_tag)\n",
    "                if call_tag is not None and call_tag.text == func_name:\n",
    "                    recursive_return_count += 1\n",
    "    return recursive_return_count\n",
    "\n",
    "# Example usage\n",
    "#recursive_return_count = count_recursive_returns(root)\n",
    "#print(f\"Number of Recursive Returns (NRRec): {recursive_return_count}\")"
   ]
  },
  {
   "cell_type": "markdown",
   "id": "3adad6c8",
   "metadata": {},
   "source": [
    "## 20. Number of Non-Recursive Returns (NRNRec)"
   ]
  },
  {
   "cell_type": "code",
   "execution_count": 125,
   "id": "18abff19",
   "metadata": {},
   "outputs": [
    {
     "name": "stdout",
     "output_type": "stream",
     "text": [
      "printing recursive_functions:  ['factorial', 'fibonacci', 'power', 'recursiveFuncWith2FuncReturns']\n",
      "Number of Non-Recursive Returns (NRNRec): 4\n"
     ]
    }
   ],
   "source": [
    "def count_non_recursive_returns(root):\n",
    "    function_bodies = extract_function_bodies(root)\n",
    "    recursive_functions = []  # List to store names of recursive functions\n",
    "    #print(\"printing function_bodies: \",function_bodies)\n",
    "    # Identify recursive functions\n",
    "    for func_name, body in function_bodies.items():\n",
    "        func_calls_in_body = ET.fromstring(body).findall('.//src:call/src:name', namespaces=NAMESPACE_SRC)\n",
    "        func_calls = [call.text for call in func_calls_in_body]\n",
    "        if func_name in func_calls:\n",
    "            recursive_functions.append(func_name)\n",
    "    print(\"printing recursive_functions: \",recursive_functions)\n",
    "    non_recursive_return_count = 0\n",
    "    for func_name, body in function_bodies.items():\n",
    "        return_tags = ET.fromstring(body).findall('.//src:return', namespaces=NAMESPACE_SRC)\n",
    "        if func_name in recursive_functions:\n",
    "            for return_tag in return_tags:\n",
    "                call_tag = return_tag.find('.//src:call/src:name', namespaces=NAMESPACE_SRC)\n",
    "                #print(\"printing call_tag: \",call_tag)\n",
    "                if call_tag is None or call_tag.text != func_name:\n",
    "                    non_recursive_return_count += 1\n",
    "    return non_recursive_return_count\n",
    "\n",
    "# Example usage\n",
    "#non_recursive_return_count = count_non_recursive_returns(root)\n",
    "#print(f\"Number of Non-Recursive Returns (NRNRec): {non_recursive_return_count}\")"
   ]
  },
  {
   "cell_type": "markdown",
   "id": "8391f43d",
   "metadata": {},
   "source": [
    "## 21. Number of Malloc (NMalloc)"
   ]
  },
  {
   "cell_type": "code",
   "execution_count": 67,
   "id": "86a7bd11",
   "metadata": {},
   "outputs": [
    {
     "name": "stdout",
     "output_type": "stream",
     "text": [
      "Number of Malloc (NMalloc): 3\n"
     ]
    }
   ],
   "source": [
    "def count_malloc_functions(root):\n",
    "    malloc_count = 0\n",
    "    # Search for malloc functions in the source code\n",
    "    for malloc_call in root.findall('.//src:call[src:name=\"malloc\"]', namespaces=NAMESPACE_SRC):\n",
    "        malloc_count += 1\n",
    "    return malloc_count\n",
    "\n",
    "# Example usage\n",
    "#malloc_count = count_malloc_functions(root)\n",
    "#print(f\"Number of Malloc (NMalloc): {malloc_count}\")"
   ]
  },
  {
   "cell_type": "markdown",
   "id": "53aa3497",
   "metadata": {},
   "source": [
    "## 22. Number of Sizeof (NSizeof)"
   ]
  },
  {
   "cell_type": "code",
   "execution_count": 70,
   "id": "bf5bb472",
   "metadata": {},
   "outputs": [
    {
     "name": "stdout",
     "output_type": "stream",
     "text": [
      "Number of Sizeof (NSizeof): 4\n"
     ]
    }
   ],
   "source": [
    "def count_sizeof(root):\n",
    "    sizeof_count = 0\n",
    "    # Search for sizeof keyword throughout the source code\n",
    "    for sizeof in root.findall('.//src:sizeof', namespaces=NAMESPACE_SRC):\n",
    "        sizeof_count += 1\n",
    "    return sizeof_count\n",
    "\n",
    "# Example usage\n",
    "#sizeof_count = count_sizeof(root)\n",
    "#print(f\"Number of Sizeof (NSizeof): {sizeof_count}\")"
   ]
  },
  {
   "cell_type": "markdown",
   "id": "e27d2d0c",
   "metadata": {},
   "source": [
    "## 23. Number of Free (NFree)"
   ]
  },
  {
   "cell_type": "code",
   "execution_count": 72,
   "id": "0c309d09",
   "metadata": {},
   "outputs": [
    {
     "name": "stdout",
     "output_type": "stream",
     "text": [
      "Number of Free Functions (NFree): 3\n"
     ]
    }
   ],
   "source": [
    "def count_free_functions(root):\n",
    "    free_count = 0\n",
    "    # Search for occurrences of the 'free' keyword\n",
    "    for free_call in root.findall('.//src:call[src:name=\"free\"]', namespaces=NAMESPACE_SRC):\n",
    "        # Increment the count for each occurrence\n",
    "        free_count += 1\n",
    "    return free_count\n",
    "\n",
    "# Example usage\n",
    "#num_free_functions = count_free_functions(root)\n",
    "#print(\"Number of Free Functions (NFree):\", num_free_functions)"
   ]
  },
  {
   "cell_type": "code",
   "execution_count": null,
   "id": "011fd253",
   "metadata": {},
   "outputs": [],
   "source": []
  }
 ],
 "metadata": {
  "kernelspec": {
   "display_name": "Python 3 (ipykernel)",
   "language": "python",
   "name": "python3"
  },
  "language_info": {
   "codemirror_mode": {
    "name": "ipython",
    "version": 3
   },
   "file_extension": ".py",
   "mimetype": "text/x-python",
   "name": "python",
   "nbconvert_exporter": "python",
   "pygments_lexer": "ipython3",
   "version": "3.11.4"
  }
 },
 "nbformat": 4,
 "nbformat_minor": 5
}
