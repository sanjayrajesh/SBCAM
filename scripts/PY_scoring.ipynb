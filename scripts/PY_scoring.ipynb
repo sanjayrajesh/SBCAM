{
 "cells": [
  {
   "cell_type": "code",
   "execution_count": 1,
   "metadata": {
    "scrolled": true
   },
   "outputs": [],
   "source": [
    "import json\n",
    "import os\n",
    "import pandas as pd\n",
    "from py_constants import *\n",
    "from py_common import *\n",
    "# %run py_common.py ## Common Methods\n",
    "%run py_feature_extraction.ipynb ##Feature Extraction"
   ]
  },
  {
   "cell_type": "markdown",
   "metadata": {},
   "source": [
    "### Extracting Student Features. (Only those features are checked which are present in teachers solution)"
   ]
  },
  {
   "cell_type": "code",
   "execution_count": 2,
   "metadata": {},
   "outputs": [],
   "source": [
    "def extract_features(root, teacher_solution):\n",
    "    # with open(json_file, 'r') as f:\n",
    "    #     data = json.load(f)\n",
    "    \n",
    "    features = {}\n",
    "    for key, function_name in FUNCTION_MAP.items():\n",
    "        if key in teacher_solution:\n",
    "            function = globals()[function_name]\n",
    "            features[key] = function(root)\n",
    "    \n",
    "    return features"
   ]
  },
  {
   "cell_type": "markdown",
   "metadata": {},
   "source": [
    "### Calculate Individual Student Scores"
   ]
  },
  {
   "cell_type": "code",
   "execution_count": 3,
   "metadata": {},
   "outputs": [],
   "source": [
    "def calculate_individual_scores(teacher_solution, student_solution):\n",
    "    individual_scores = {}\n",
    "    total_score = 0\n",
    "    \n",
    "    for feature, teacher_count in teacher_solution.items():\n",
    "        if feature in student_solution:\n",
    "            student_count = student_solution[feature]\n",
    "            # Calculate the score based on the difference between counts\n",
    "            feature_score = max(0, min(1, 1 - abs(teacher_count - student_count) / teacher_count))\n",
    "            # Penalize if the student's count exceeds the teacher's count\n",
    "            if student_count > teacher_count:\n",
    "                feature_score *= PENALTY_FACTOR  # Example penalty factor (adjust as needed)\n",
    "            # Add the feature score to the total score\n",
    "            total_score += feature_score\n",
    "            # Store the individual score for the feature\n",
    "            individual_scores[feature] = {\n",
    "                \"student_count\": student_count,\n",
    "                \"teacher_count\": teacher_count,\n",
    "                \"score\": f\"{student_count}/{teacher_count}\",\n",
    "                \"feature_score\": feature_score\n",
    "            }\n",
    "        else:\n",
    "            # If the feature is not present in the student's solution\n",
    "            individual_scores[feature] = {\n",
    "                \"student_count\": 0,\n",
    "                \"teacher_count\": teacher_count,\n",
    "                \"score\": f\"0/{teacher_count}\",\n",
    "                \"feature_score\": 0\n",
    "            }\n",
    "    \n",
    "    # Calculate the final score percentage\n",
    "    num_features = len(teacher_solution)\n",
    "    final_score_percentage = total_score / num_features * 100 if num_features > 0 else 0\n",
    "    return individual_scores, final_score_percentage\n",
    "\n",
    "# Example usage:\n",
    "# teacher_solution = {'NF': 4, 'NP': 4, 'NPt-s': 1, 'NAdd-s': 1, 'NAdd-B': 1, 'NAdd-A': 1}\n",
    "# student_solution = {'NF': 4, 'NP': 7, 'NPt-s': 1, 'NAdd-s': 1, 'NAdd-B': 1, 'NAdd-A': 1}\n",
    "\n",
    "# individual_scores, final_score_percentage = calculate_individual_scores(teacher_solution, student_solution)\n",
    "# print(\"Individual scores:\", individual_scores)\n",
    "# print(\"Final score percentage:\", final_score_percentage)"
   ]
  },
  {
   "cell_type": "markdown",
   "metadata": {},
   "source": [
    "### Formatting individual result into excel row data "
   ]
  },
  {
   "cell_type": "code",
   "execution_count": 4,
   "metadata": {},
   "outputs": [],
   "source": [
    "def create_row_data(student_id, student_solution, final_score_percentage):\n",
    "    row_data = {'Student_ID': student_id}\n",
    "    for feature, score_data in student_solution.items():\n",
    "        row_data[feature] = score_data\n",
    "    row_data['Final_Score'] = str(round(final_score_percentage, 2)) + \"%\"\n",
    "    return row_data"
   ]
  },
  {
   "cell_type": "markdown",
   "metadata": {},
   "source": [
    "## Main Function"
   ]
  },
  {
   "cell_type": "code",
   "execution_count": 5,
   "metadata": {},
   "outputs": [
    {
     "name": "stdout",
     "output_type": "stream",
     "text": [
      "101 {'NF': {'student_count': 3, 'teacher_count': 3, 'score': '3/3', 'feature_score': 1}, 'FLC': {'student_count': 18.25, 'teacher_count': 15.75, 'score': '18.25/15.75', 'feature_score': 0.7992063492063491}, 'NP': {'student_count': 3, 'teacher_count': 3, 'score': '3/3', 'feature_score': 1}, 'NC': {'student_count': 3, 'teacher_count': 4, 'score': '3/4', 'feature_score': 0.75}, 'NR': {'student_count': 6, 'teacher_count': 6, 'score': '6/6', 'feature_score': 1}, 'NFRec': {'student_count': 0, 'teacher_count': 1, 'score': '0/1', 'feature_score': 0}, 'NCRec': {'student_count': 0, 'teacher_count': 1, 'score': '0/1', 'feature_score': 0}, 'NIFPar': {'student_count': 0, 'teacher_count': 1, 'score': '0/1', 'feature_score': 0}, 'NRRec': {'student_count': 0, 'teacher_count': 1, 'score': '0/1', 'feature_score': 0}, 'NRNRec': {'student_count': 0, 'teacher_count': 1, 'score': '0/1', 'feature_score': 0}} 45.49206349206349\n",
      "102 {'NF': {'student_count': 3, 'teacher_count': 3, 'score': '3/3', 'feature_score': 1}, 'FLC': {'student_count': 18.25, 'teacher_count': 15.75, 'score': '18.25/15.75', 'feature_score': 0.7992063492063491}, 'NP': {'student_count': 3, 'teacher_count': 3, 'score': '3/3', 'feature_score': 1}, 'NC': {'student_count': 4, 'teacher_count': 4, 'score': '4/4', 'feature_score': 1}, 'NR': {'student_count': 7, 'teacher_count': 6, 'score': '7/6', 'feature_score': 0.7916666666666666}, 'NFRec': {'student_count': 1, 'teacher_count': 1, 'score': '1/1', 'feature_score': 1}, 'NCRec': {'student_count': 1, 'teacher_count': 1, 'score': '1/1', 'feature_score': 1}, 'NIFPar': {'student_count': 3, 'teacher_count': 1, 'score': '3/1', 'feature_score': 0.0}, 'NRRec': {'student_count': 1, 'teacher_count': 1, 'score': '1/1', 'feature_score': 1}, 'NRNRec': {'student_count': 2, 'teacher_count': 1, 'score': '2/1', 'feature_score': 0.0}} 75.90873015873017\n"
     ]
    }
   ],
   "source": [
    "if __name__ == \"__main__\":\n",
    "\n",
    "    assignment_number = 1  # INPUT ASSIGNMENT NUMBER\n",
    "    file_name = \"submission.cpp\" # INPUT FILE NAME\n",
    "\n",
    "    student_submissions_path = STUDENT_BASE_PATH.format(assignment_number)\n",
    "\n",
    "    instructor_json = INSTRUCTOR_JSON_FILE.format(assignment_number)\n",
    "    with open(instructor_json, 'r') as f:\n",
    "        teacher_solution = json.load(f)\n",
    "    \n",
    "    columns=['Student_ID'] + list(teacher_solution.keys()) + ['Final_Score']\n",
    "    results_df = pd.DataFrame(columns=columns)\n",
    "\n",
    "    row_data_array = []\n",
    "    row_data_array.append(create_row_data('Instructor Solution',teacher_solution, 100))\n",
    "\n",
    "    for student_folder in os.listdir(student_submissions_path):\n",
    "        student_id = student_folder  # Assuming student folder names are student IDs\n",
    "        student_submission = STUDENT_SUBMISSION.format(assignment_number, student_folder, file_name)\n",
    "\n",
    "        xml_output_file = STUDENT_XML_OUTPUT.format(assignment_number, student_folder,file_name)\n",
    "        \n",
    "        generate_ast(student_submission, xml_output_file)\n",
    "\n",
    "        root =  parse_xml(xml_output_file)\n",
    "\n",
    "        student_solution = extract_features(root, teacher_solution)\n",
    "        individual_scores, final_score_percentage = calculate_individual_scores(teacher_solution, student_solution)\n",
    "\n",
    "        print(student_id, individual_scores, final_score_percentage)\n",
    "\n",
    "        row_data = create_row_data(student_id, student_solution, final_score_percentage)\n",
    "\n",
    "        row_data_array.append(row_data)\n",
    "\n",
    "    results_df = pd.DataFrame(row_data_array, columns=columns)\n",
    "    result_excel_file = RESULTS_ASSIGNMENT.format(assignment_number)\n",
    "    results_df.to_excel(result_excel_file, index=False)"
   ]
  },
  {
   "cell_type": "code",
   "execution_count": null,
   "metadata": {},
   "outputs": [],
   "source": []
  }
 ],
 "metadata": {
  "kernelspec": {
   "display_name": "Python 3 (ipykernel)",
   "language": "python",
   "name": "python3"
  },
  "language_info": {
   "codemirror_mode": {
    "name": "ipython",
    "version": 3
   },
   "file_extension": ".py",
   "mimetype": "text/x-python",
   "name": "python",
   "nbconvert_exporter": "python",
   "pygments_lexer": "ipython3",
   "version": "3.11.4"
  }
 },
 "nbformat": 4,
 "nbformat_minor": 2
}
