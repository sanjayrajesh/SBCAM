{
 "cells": [
  {
   "cell_type": "code",
   "execution_count": 4,
   "metadata": {},
   "outputs": [],
   "source": [
    "import json\n",
    "\n",
    "from py_constants import *\n",
    "%run py_common.py ## Common Methods\n",
    "%run py_feature_extraction.ipynb ##Feature Extraction"
   ]
  },
  {
   "cell_type": "markdown",
   "metadata": {},
   "source": [
    "### Extracting All features from Teachers solution and saving only those features with count > 0"
   ]
  },
  {
   "cell_type": "code",
   "execution_count": 5,
   "metadata": {},
   "outputs": [],
   "source": [
    "def get_quality_metrics(root):\n",
    "    # Construct the JSON object\n",
    "    quality_metrics = {}\n",
    "    for key, function_name in FUNCTION_MAP.items():\n",
    "        function = globals()[function_name]\n",
    "        #print(\"printing function names\",function)\n",
    "        temp = function(root)\n",
    "        if temp > 0: \n",
    "            quality_metrics[key] = temp\n",
    "    print(\"Quality Metrics: \",quality_metrics)\n",
    "    # return json.dumps(quality_metrics, indent=4)\n",
    "    # quality_metrics_filtered = {k: v for k, v in quality_metrics.items() if v >= 1}\n",
    "\n",
    "    return quality_metrics"
   ]
  },
  {
   "cell_type": "markdown",
   "metadata": {},
   "source": [
    "## Main Function"
   ]
  },
  {
   "cell_type": "code",
   "execution_count": 6,
   "metadata": {},
   "outputs": [
    {
     "name": "stdout",
     "output_type": "stream",
     "text": [
      "Quality Metrics:  {'NF': 2, 'FLC': 8.333333333333334, 'NP': 4, 'NC': 2, 'NR': 3, 'NPt-ds': 2, 'NAdd-ds': 2, 'NSizeof': 2}\n",
      "Quality metrics saved to ../assignments/assignment_2/teachers_solution/quality_metrics.json\n"
     ]
    }
   ],
   "source": [
    "if __name__ == \"__main__\":\n",
    "    # Specify the source code file and output file for the AST\n",
    "    #source_code_file = 'test.cpp'\n",
    "    #xml_output_file = 'ast.xml'\n",
    "\n",
    "    #INPUTS TO BE GIVEN BY INSTRUCTOR\n",
    "    assignment_number = 2  # INPUT ASSIGNMENT NUMBER\n",
    "    file_name = \"test1.cpp\" # INPUT SOLUTION FILE NAME\n",
    "\n",
    "    source_code_file = INSTRUCTOR_SOLUTION.format(assignment_number, file_name)\n",
    "    xml_output_file = INSTRUCTOR_XML_OUTPUT.format(assignment_number, file_name)\n",
    "\n",
    "    # Generate AST\n",
    "    generate_ast(source_code_file, xml_output_file)\n",
    "\n",
    "    root =  parse_xml(xml_output_file)\n",
    "        \n",
    "    json_metrics = get_quality_metrics(root)\n",
    "    json_file = INSTRUCTOR_JSON_FILE.format(assignment_number)\n",
    "    with open(json_file, \"w\") as json_file:\n",
    "        json.dump(json_metrics, json_file, indent=4)\n",
    "\n",
    "    print(f\"Quality metrics saved to {json_file.name}\")"
   ]
  },
  {
   "cell_type": "code",
   "execution_count": null,
   "metadata": {},
   "outputs": [],
   "source": []
  }
 ],
 "metadata": {
  "kernelspec": {
   "display_name": "Python 3 (ipykernel)",
   "language": "python",
   "name": "python3"
  },
  "language_info": {
   "codemirror_mode": {
    "name": "ipython",
    "version": 3
   },
   "file_extension": ".py",
   "mimetype": "text/x-python",
   "name": "python",
   "nbconvert_exporter": "python",
   "pygments_lexer": "ipython3",
   "version": "3.11.4"
  }
 },
 "nbformat": 4,
 "nbformat_minor": 2
}
